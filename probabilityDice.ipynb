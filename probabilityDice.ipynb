{
  "nbformat": 4,
  "nbformat_minor": 0,
  "metadata": {
    "colab": {
      "name": "probabilityDice.ipynb",
      "provenance": [],
      "collapsed_sections": []
    },
    "kernelspec": {
      "name": "python3",
      "display_name": "Python 3"
    },
    "language_info": {
      "name": "python"
    }
  },
  "cells": [
    {
      "cell_type": "code",
      "execution_count": 14,
      "metadata": {
        "colab": {
          "base_uri": "https://localhost:8080/"
        },
        "id": "-iSmP7rAYu6s",
        "outputId": "027d0eed-f77b-413f-8d62-c18c646d487c"
      },
      "outputs": [
        {
          "output_type": "stream",
          "name": "stdout",
          "text": [
            "[99924, 100108, 100153, 99879, 99782, 100154]\n",
            "[0.167, 0.167, 0.167, 0.166, 0.166, 0.167]\n"
          ]
        }
      ],
      "source": [
        "import random \n",
        "N = 600000\n",
        "p = [0,0,0,0,0,0]\n",
        "for i in range(0,N) : \n",
        "  num = random.randint(1,6)\n",
        "  p[num-1]=p[num-1]+1\n",
        "print(p)\n",
        "pa=[]\n",
        "for ele in p : \n",
        "  pa.append(round(ele/N,3))\n",
        "print(pa)"
      ]
    }
  ]
}
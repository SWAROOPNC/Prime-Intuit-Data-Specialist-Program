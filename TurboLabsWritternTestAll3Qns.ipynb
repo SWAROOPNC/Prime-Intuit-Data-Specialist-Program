{
  "nbformat": 4,
  "nbformat_minor": 0,
  "metadata": {
    "colab": {
      "name": "TurboLabsWritternTestAll3Qns.ipynb",
      "provenance": [],
      "collapsed_sections": []
    },
    "kernelspec": {
      "name": "python3",
      "display_name": "Python 3"
    },
    "language_info": {
      "name": "python"
    }
  },
  "cells": [
    {
      "cell_type": "markdown",
      "source": [
        "TURBOLAB TECHNOLOGIES\n",
        "\n",
        "DATA QUALITY ANALYST\n",
        "\n",
        "WRITTEN TEST\n",
        "\n",
        "Candidate Name : SWAROOP N C\n",
        "\n",
        "Candidate email : ncswaroop1997@gmail.com\n",
        "\n",
        "Date : 09-05-2022"
      ],
      "metadata": {
        "id": "pYjugjFlCYbC"
      }
    },
    {
      "cell_type": "markdown",
      "source": [
        "Instructions:\n",
        "3 hours to complete \n",
        "\n",
        "+ All three questions should be attempted.\n",
        "+The solution should be in a file named answer_3.py.\n",
        "+ For question 1, save the created series/dataframe along with executed notebook (or result screenshots)\n",
        "\n",
        "+ For question 2 and 3, the solution should be in a file named answer_.py.\n",
        "+ Output can be submitted by sending the file(s) to aparna.p@scrapehero.com."
      ],
      "metadata": {
        "id": "SM0xYoYmF5fk"
      }
    },
    {
      "cell_type": "code",
      "source": [
        "import numpy as np\n",
        "import pandas as pd"
      ],
      "metadata": {
        "id": "vXnT6e4zKGkK"
      },
      "execution_count": 2,
      "outputs": []
    },
    {
      "cell_type": "markdown",
      "source": [
        "# QUESTION 1"
      ],
      "metadata": {
        "id": "Xi7IJQS9GlJ_"
      }
    },
    {
      "cell_type": "markdown",
      "source": [
        "Part 01. \n",
        "Create a Pandas series with 100 random dates as it falls between 01-01-20 to 01-01-21\n",
        "\n",
        "(hint: use Pandas date_range function).\n",
        "\n",
        "Like:-\n",
        "_\n",
        "2020-01-06\n",
        "2020-06-11\n",
        "2020-02-18\n",
        "\n",
        "Part 02. Dedupe it and calculate the number of duplicates and convert it to percentage.\n",
        "\n",
        "Then by using regex, filter values where either the month is 02,05,09 OR the date is 01,04,07 - the apply function should not be used.\n",
        "\n",
        "Finally, calculate the percentage of values filtered for the month condition and the date condition."
      ],
      "metadata": {
        "id": "rjx6SilEGVch"
      }
    },
    {
      "cell_type": "markdown",
      "source": [
        "# SOLUTION TO Q 1"
      ],
      "metadata": {
        "id": "zTZmQ8OiNoaO"
      }
    },
    {
      "cell_type": "markdown",
      "source": [
        "Part 01. Create a Pandas series with 100 random dates as it falls between 01-01-20 to 01-01-21\n",
        "\n",
        "(hint: use Pandas date_range function).\n",
        "\n",
        "Like:- _ 2020-01-06 2020-06-11 2020-02-18"
      ],
      "metadata": {
        "id": "Qost6O1FNsHy"
      }
    },
    {
      "cell_type": "code",
      "source": [
        "def random_dates2(start, end, n, unit='D', seed=None):\n",
        "    if not seed:\n",
        "        np.random.seed(0)\n",
        "    ndays = (end - start).days + 1\n",
        "    return start + pd.to_timedelta(np.random.randint(0, ndays, n), unit=unit)"
      ],
      "metadata": {
        "id": "9JVQy8FlLwEZ"
      },
      "execution_count": 28,
      "outputs": []
    },
    {
      "cell_type": "code",
      "source": [
        "start = pd.to_datetime('2020/01/01')\n",
        "end = pd.to_datetime('2021/01/01')\n",
        "n=100"
      ],
      "metadata": {
        "id": "itIrQX3dNUs_"
      },
      "execution_count": 29,
      "outputs": []
    },
    {
      "cell_type": "code",
      "source": [
        "dates=random_dates2(start,end,n)\n",
        "dates"
      ],
      "metadata": {
        "colab": {
          "base_uri": "https://localhost:8080/"
        },
        "id": "6q0cKMoUNzMv",
        "outputId": "99ab30fd-0536-44fd-815a-715f2b2e7c3c"
      },
      "execution_count": 30,
      "outputs": [
        {
          "output_type": "execute_result",
          "data": {
            "text/plain": [
              "DatetimeIndex(['2020-06-21', '2020-02-17', '2020-04-27', '2020-07-11',\n",
              "               '2020-11-19', '2020-09-08', '2020-07-14', '2020-12-25',\n",
              "               '2020-01-10', '2020-07-30', '2020-10-04', '2020-08-30',\n",
              "               '2020-10-19', '2020-03-28', '2020-03-11', '2020-03-29',\n",
              "               '2020-11-10', '2020-07-12', '2020-02-09', '2020-03-28',\n",
              "               '2020-06-23', '2020-03-29', '2020-12-03', '2020-06-14',\n",
              "               '2020-01-26', '2020-11-29', '2020-03-13', '2020-09-22',\n",
              "               '2020-04-25', '2020-08-31', '2020-07-16', '2020-12-01',\n",
              "               '2020-12-04', '2020-04-09', '2020-06-26', '2020-08-31',\n",
              "               '2020-10-12', '2020-05-27', '2020-05-27', '2020-10-15',\n",
              "               '2020-09-22', '2020-07-04', '2020-05-07', '2020-02-02',\n",
              "               '2020-02-01', '2020-07-21', '2020-09-01', '2020-05-31',\n",
              "               '2020-06-12', '2020-07-02', '2020-01-29', '2020-10-17',\n",
              "               '2020-05-08', '2020-05-08', '2020-02-23', '2020-02-08',\n",
              "               '2020-09-01', '2020-09-30', '2020-12-01', '2020-04-15',\n",
              "               '2020-02-12', '2020-02-01', '2020-09-14', '2020-11-17',\n",
              "               '2020-02-27', '2020-10-18', '2020-12-24', '2020-04-29',\n",
              "               '2020-09-24', '2020-03-23', '2020-04-01', '2020-04-09',\n",
              "               '2020-02-23', '2020-05-01', '2020-03-25', '2020-07-22',\n",
              "               '2020-11-20', '2020-09-19', '2020-02-17', '2020-05-07',\n",
              "               '2020-05-11', '2020-12-22', '2020-06-29', '2020-11-30',\n",
              "               '2020-05-23', '2020-05-28', '2020-08-15', '2020-10-06',\n",
              "               '2020-07-26', '2020-12-07', '2020-02-18', '2020-11-01',\n",
              "               '2020-03-10', '2020-06-18', '2020-06-12', '2020-04-05',\n",
              "               '2020-07-16', '2020-04-04', '2020-09-13', '2020-06-27'],\n",
              "              dtype='datetime64[ns]', freq=None)"
            ]
          },
          "metadata": {},
          "execution_count": 30
        }
      ]
    },
    {
      "cell_type": "code",
      "source": [
        "dateseries=pd.Series(dates)\n",
        "dateseries"
      ],
      "metadata": {
        "colab": {
          "base_uri": "https://localhost:8080/"
        },
        "id": "yC8S9WPZLwBJ",
        "outputId": "c41f5996-d0a9-445f-9f33-5167878db443"
      },
      "execution_count": 31,
      "outputs": [
        {
          "output_type": "execute_result",
          "data": {
            "text/plain": [
              "0    2020-06-21\n",
              "1    2020-02-17\n",
              "2    2020-04-27\n",
              "3    2020-07-11\n",
              "4    2020-11-19\n",
              "        ...    \n",
              "95   2020-04-05\n",
              "96   2020-07-16\n",
              "97   2020-04-04\n",
              "98   2020-09-13\n",
              "99   2020-06-27\n",
              "Length: 100, dtype: datetime64[ns]"
            ]
          },
          "metadata": {},
          "execution_count": 31
        }
      ]
    },
    {
      "cell_type": "markdown",
      "source": [
        "Part 02. Dedupe it and calculate the number of duplicates and convert it to percentage.\n",
        "\n",
        "Then by using regex, filter values where either the month is 02,05,09 OR the date is 01,04,07 - the apply function should not be used.\n",
        "\n",
        "Finally, calculate the percentage of values filtered for the month condition and the date condition."
      ],
      "metadata": {
        "id": "ulxm4lUzOUu1"
      }
    },
    {
      "cell_type": "code",
      "source": [
        "dateseries.describe()[:2]"
      ],
      "metadata": {
        "colab": {
          "base_uri": "https://localhost:8080/"
        },
        "id": "tfYDa_GpLv_F",
        "outputId": "8f7096da-ee1d-4bc5-fb5e-f6a318eacb97"
      },
      "execution_count": 55,
      "outputs": [
        {
          "output_type": "stream",
          "name": "stderr",
          "text": [
            "/usr/local/lib/python3.7/dist-packages/ipykernel_launcher.py:1: FutureWarning: Treating datetime data as categorical rather than numeric in `.describe` is deprecated and will be removed in a future version of pandas. Specify `datetime_is_numeric=True` to silence this warning and adopt the future behavior now.\n",
            "  \"\"\"Entry point for launching an IPython kernel.\n"
          ]
        },
        {
          "output_type": "execute_result",
          "data": {
            "text/plain": [
              "count     100\n",
              "unique     85\n",
              "dtype: object"
            ]
          },
          "metadata": {},
          "execution_count": 55
        }
      ]
    },
    {
      "cell_type": "markdown",
      "source": [
        "calculate the number of duplicates and convert it to percentage."
      ],
      "metadata": {
        "id": "cMDXDYTxQxex"
      }
    },
    {
      "cell_type": "markdown",
      "source": [
        "**from above it is clear that 85 are unique and rest 15 are duplicates**"
      ],
      "metadata": {
        "id": "Jcmtz-IXQI7n"
      }
    },
    {
      "cell_type": "code",
      "source": [
        "NumofDup = n - dateseries.describe()[1]\n",
        "NumofDup"
      ],
      "metadata": {
        "colab": {
          "base_uri": "https://localhost:8080/"
        },
        "id": "xOb8T1V7QVY7",
        "outputId": "e6cce554-dd4d-4106-8c15-b584c6341abe"
      },
      "execution_count": 61,
      "outputs": [
        {
          "output_type": "stream",
          "name": "stderr",
          "text": [
            "/usr/local/lib/python3.7/dist-packages/ipykernel_launcher.py:1: FutureWarning: Treating datetime data as categorical rather than numeric in `.describe` is deprecated and will be removed in a future version of pandas. Specify `datetime_is_numeric=True` to silence this warning and adopt the future behavior now.\n",
            "  \"\"\"Entry point for launching an IPython kernel.\n"
          ]
        },
        {
          "output_type": "execute_result",
          "data": {
            "text/plain": [
              "15"
            ]
          },
          "metadata": {},
          "execution_count": 61
        }
      ]
    },
    {
      "cell_type": "code",
      "source": [
        "NumofDupPerc = (NumofDup/n)*100\n",
        "NumofDupPerc"
      ],
      "metadata": {
        "colab": {
          "base_uri": "https://localhost:8080/"
        },
        "id": "OoOc3rD0Qzit",
        "outputId": "82f90076-7b0b-4af9-d1f8-83452ee8ffc5"
      },
      "execution_count": 63,
      "outputs": [
        {
          "output_type": "execute_result",
          "data": {
            "text/plain": [
              "15.0"
            ]
          },
          "metadata": {},
          "execution_count": 63
        }
      ]
    },
    {
      "cell_type": "markdown",
      "source": [
        "Then by using regex, filter values where either the month is 02,05,09 OR the date is 01,04,07 - the apply function should not be used.\n",
        "\n",
        "Finally, calculate the percentage of values filtered for the month condition and the date condition."
      ],
      "metadata": {
        "id": "vtp8bzyMRKj2"
      }
    },
    {
      "cell_type": "code",
      "source": [
        "#not answered"
      ],
      "metadata": {
        "id": "E458DAxzRL54"
      },
      "execution_count": null,
      "outputs": []
    },
    {
      "cell_type": "markdown",
      "source": [
        "# Question 2:"
      ],
      "metadata": {
        "id": "MxP_ZZggGsPK"
      }
    },
    {
      "cell_type": "markdown",
      "source": [
        "This question has two parts, \n",
        "\n",
        "a) Sentence Validator and \n",
        "\n",
        "b) Name Reducer\n",
        "\n",
        "a) Create a sentence validator function. \n",
        "The validator should return input if it is valid otherwise return False\n",
        "\n",
        "Validation Criteria:\n",
        "\n",
        "1. Start letter must be an uppercase letter and it should follow either a lowercase letter or a single whitespace.\n",
        "\n",
        "2. All letters in the sentence except the start letter must be in lowercase.\n",
        "\n",
        "3. The last character (aka terminal character) of the sentence must be any of the following:\n",
        "\n",
        ". (dot) \n",
        "? (question mark) \n",
        "! (exclamation mark)\n",
        "\n",
        "4. Words must be separated with a single whitespace. \n",
        "\n",
        "If there is a hyphen between any two words then there should be one whitespace before and after that hyphen.\n",
        "\n",
        "eg: Lab - 1 is valid, but Lab- 7 and Lab -7 are invalid\n",
        "\n",
        "b) Write a reducer function to clean the sentences. Reducer takes output from the validator function as input and performs the following cleaning steps,\n",
        "\n",
        "○ Removes terminal characters (see above validation criteria for list of allowed terminal characters)\n",
        "\n",
        "○ Removes all duplicated word groups (see below examples) but keep its first occurence\n",
        "\n",
        "○ Removes all leading and trailing whitespaces and hyphens\n",
        "\n",
        "After completing the functions for part a & b. \n",
        "\n",
        "Create a function check_and_clean which takes a sentence as input and validates (using validator function) and returns reduced string (output\n",
        "from reducer function) when the sentence is valid, \"<invalid>\" otherwise.\n",
        "\n",
        "Note: You are not allowed to use regex for this question.\n",
        "\n",
        "Example 1:\n",
        "Input: Melo diagnostics melo Labs\n",
        "\n",
        "Sentence is invalid, failed validation criteria 2 & 3\n",
        "\n",
        "Output: invalid\n",
        "\n",
        "Example 2:\n",
        "\n",
        "Input: Melo diagnostics - southpark east 29th street - southpark east 29th street - free drug testing not offered.\n",
        "Sentence is valid\n",
        "\n",
        "Word groups:\n",
        "Melo diagnostics southpark east 29th street free drug testing not offered\n",
        "\n",
        "Output: Melo diagnostics - southpark east 29th street - free drug testing not offered\n",
        "\n",
        "Example 3:\n",
        "\n",
        "Input: Simple labs - covid test available - west side hospital - covid test available!\n",
        "\n",
        "Sentence is valid\n",
        "\n",
        "Word groups:\n",
        "Simple labs\n",
        "covid test available\n",
        "west side hospital\n",
        "\n",
        "Output: Simple labs - covid test available - west side hospital\n",
        "\n"
      ],
      "metadata": {
        "id": "Aj2wDj2cGwSs"
      }
    },
    {
      "cell_type": "markdown",
      "source": [
        "# SOLUTION TO Q 2"
      ],
      "metadata": {
        "id": "H5ef64eFS_zd"
      }
    },
    {
      "cell_type": "markdown",
      "source": [
        "sentence validator\n",
        "\n",
        "Validation Criteria:\n",
        "\n",
        "1 **Start letter must be an uppercase letter** and **it should follow either a lowercase letter** or **a single whitespace**.\n",
        "\n",
        "2 **All letters in the sentence except the start letter must be in lowercase.**\n",
        "\n",
        "3 **The last character (aka terminal character) of the sentence must be any of the following:**\n",
        "**. (dot) ? (question mark) ! (exclamation mark)**\n",
        "\n",
        "**Words must be separated with a single whitespace.**\n",
        "If there is a hyphen between any two words then there should be one whitespace before and after that hyphen.\n",
        "\n",
        "eg: Lab - 1 is valid, but Lab- 7 and Lab -7 are invalid"
      ],
      "metadata": {
        "id": "CN6X9umQS8eJ"
      }
    },
    {
      "cell_type": "code",
      "source": [
        "def SentenceValidator(string):\n",
        "  length = len(string)\n",
        "  #Start letter must be an uppercase letter\n",
        "  if (string[0] < 'A' or string[0] > 'Z'):\n",
        "    return False\n",
        "  #last character of sentence must be  . (dot) ? (question mark) ! (exclamation mark)\n",
        "  elif not(string[length-1] == '.' or string[length-1] == '?' or string[length-1] == '!'):\n",
        "    return False\n",
        "  #All letters in the sentence except the start letter must be in lowercase\n",
        "  else:\n",
        "    for ele in string[1:]:\n",
        "      if ele.isupper():\n",
        "        return False\n",
        "  #Words must be separated with a single whitespace.\n",
        "  #check for more than 2 consecutive whitespace\n",
        "  for i in range(len(string)) :\n",
        "    if (string[i]==' ' and string[i+1]==' ') :\n",
        "      return False\n",
        "  #If there is a hyphen between any two words then \n",
        "  #there should be one whitespace before and after that hyphen.\n",
        "  for i in range(len(string)) :\n",
        "    if (string[i]=='-') :\n",
        "      if not((string[i-1]==' ')and (string[i+1]==' ')):\n",
        "        return False \n",
        "  return string"
      ],
      "metadata": {
        "id": "rjcm-uarYYRA"
      },
      "execution_count": 206,
      "outputs": []
    },
    {
      "cell_type": "markdown",
      "source": [
        "b) Write a reducer function to clean the sentences. Reducer takes output from the validator function as input and performs the following cleaning steps,\n",
        "\n",
        "○ **Removes terminal characters (see above validation criteria for list of allowed terminal characters)**\n",
        "\n",
        "○ **Removes all duplicated word groups (see below examples) but keep its first occurence**\n",
        "\n",
        "○ **Removes all leading and trailing whitespaces** and hyphens"
      ],
      "metadata": {
        "id": "lbOmXhY7iYwJ"
      }
    },
    {
      "cell_type": "code",
      "source": [
        "def reducer(ValidOp) :\n",
        "  #Removes terminal characters\n",
        "  ValidOp=ValidOp[:-1]\n",
        "  #Removes all leading and trailing whitespaces\n",
        "  ValidOp=ValidOp.strip()\n",
        "  #Removes all leading and trailing HYPHENS\n",
        "  ValidOp=ValidOp.strip(\"-\")\n",
        "  #Removes all duplicated word groups  but keep its first occurence\n",
        "  l = ValidOp.split()\n",
        "  k = []\n",
        "  for i in l:\n",
        "    if (ValidOp.count(i)>=1 and (i not in k) or i =='-'):\n",
        "      k.append(i)\n",
        "  ValidOp=' '.join(k)\n",
        "  return ValidOp"
      ],
      "metadata": {
        "id": "9gxKJ2TTIR1N"
      },
      "execution_count": 238,
      "outputs": []
    },
    {
      "cell_type": "markdown",
      "source": [
        "check_and_clean\n",
        "\n",
        "Create a function check_and_clean which takes a\n",
        "sentence as input and validates (using validator function) and returns reduced string (output\n",
        "from reducer function) when the sentence is valid, \"<invalid>\" otherwise."
      ],
      "metadata": {
        "id": "l4TydmlgmJ1L"
      }
    },
    {
      "cell_type": "code",
      "source": [
        "def check_and_clean() :\n",
        "  stringcheck=str(input(\"Input String : \"))\n",
        "  if (SentenceValidator(stringcheck) != False ) :\n",
        "    print(\"******** OUTPUT ***********************\")\n",
        "    return (reducer(SentenceValidator(stringcheck)))\n",
        "  else :\n",
        "    print(\"******** OUTPUT ***********************\")\n",
        "    return (\"<invalid>\")"
      ],
      "metadata": {
        "id": "LWKVvpXmmLGB"
      },
      "execution_count": 239,
      "outputs": []
    },
    {
      "cell_type": "code",
      "source": [
        "#driverprogram\n",
        "#test case 1 Melo diagnostics melo Labs\n",
        "check_and_clean()"
      ],
      "metadata": {
        "colab": {
          "base_uri": "https://localhost:8080/",
          "height": 72
        },
        "id": "SdFhtn1ynN-Z",
        "outputId": "4d96c218-510c-4f02-ddce-4d2b4e4f1945"
      },
      "execution_count": 223,
      "outputs": [
        {
          "output_type": "stream",
          "name": "stdout",
          "text": [
            "Input String : Melo diagnostics melo Labs\n",
            "******** OUTPUT ***********************\n"
          ]
        },
        {
          "output_type": "execute_result",
          "data": {
            "text/plain": [
              "'<invalid>'"
            ],
            "application/vnd.google.colaboratory.intrinsic+json": {
              "type": "string"
            }
          },
          "metadata": {},
          "execution_count": 223
        }
      ]
    },
    {
      "cell_type": "code",
      "source": [
        "#driverprogram\n",
        "#test case 3  : Simple labs - covid test available - west side hospital - covid test available!\n",
        "check_and_clean()"
      ],
      "metadata": {
        "colab": {
          "base_uri": "https://localhost:8080/",
          "height": 72
        },
        "outputId": "5d6940d3-abd8-4a71-f4c1-22662689c593",
        "id": "RQXR32qCoz_S"
      },
      "execution_count": 234,
      "outputs": [
        {
          "output_type": "stream",
          "name": "stdout",
          "text": [
            "Input String : Simple labs - covid test available - west side hospital - covid test available!\n",
            "******** OUTPUT ***********************\n"
          ]
        },
        {
          "output_type": "execute_result",
          "data": {
            "text/plain": [
              "'Simple labs - covid test available - west side hospital -'"
            ],
            "application/vnd.google.colaboratory.intrinsic+json": {
              "type": "string"
            }
          },
          "metadata": {},
          "execution_count": 234
        }
      ]
    },
    {
      "cell_type": "markdown",
      "source": [
        "# Question 3:"
      ],
      "metadata": {
        "id": "1YQpnEg1ISMn"
      }
    },
    {
      "cell_type": "markdown",
      "source": [
        "A sample data of posts of random users are given in this link: click here to download Post_id, date of post and post caption details are available in the sample dataset. \n",
        "\n",
        "Create a function that extracts posts older than 13/11/2021 and finds the 3 most frequently used special characters out of it. The function should return the 3 most frequently used special characters\n",
        "and the number of times they occurred in the filtered data."
      ],
      "metadata": {
        "id": "X4yXSIxpIgDo"
      }
    },
    {
      "cell_type": "markdown",
      "source": [
        "Example"
      ],
      "metadata": {
        "id": "-CtEWFqYIoxn"
      }
    },
    {
      "cell_type": "markdown",
      "source": [
        "![Capture.PNG](data:image/png;base64,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)"
      ],
      "metadata": {
        "id": "UcQWYr0XIpTa"
      }
    },
    {
      "cell_type": "markdown",
      "source": [
        "Explanation\n",
        "The post #2 is eliminated since it is older than the date 13/11/2021. In the remaining 3 rows, the\n",
        "special character “@” occurred the most i.e, 4 times in the posts #1 and #4. \n",
        "The second most frequent special character is “!” which occurred 3 times and then “\ud83d” occurred twice.\n",
        "Since only the top 3 most frequent ones are required, the remaining special characters “\ud83d” and\n",
        "“$” are ignored."
      ],
      "metadata": {
        "id": "UrhiZUwEI3kq"
      }
    },
    {
      "cell_type": "code",
      "source": [
        "#load dataset\n",
        "df = pd.read_csv(\"Captions.csv\")\n",
        "df"
      ],
      "metadata": {
        "colab": {
          "base_uri": "https://localhost:8080/",
          "height": 424
        },
        "id": "dtKFV8ITITpo",
        "outputId": "4104d9e7-0819-42dd-ed46-1de512249545"
      },
      "execution_count": 241,
      "outputs": [
        {
          "output_type": "execute_result",
          "data": {
            "text/plain": [
              "      post_id        date                                            caption\n",
              "0     post #1  15/11/2021                                                NaN\n",
              "1     post #2  14/11/2021  Skippers at the ground for a photo call but ca...\n",
              "2     post #3  18/11/2021  Kia ora everyone, We tried but it wasn't to be...\n",
              "3     post #4  11/11/2021                           Teihorangi Walden 🔒 2022\n",
              "4     post #5  13/11/2021                                                NaN\n",
              "..        ...         ...                                                ...\n",
              "95   post #96  17/11/2021  Pink maomao, blue maomao, granddaddy hāpuku (N...\n",
              "96   post #97  12/11/2021  Hiking in Queenstown? Yes, please! 🥾⁠ ⁠ Now th...\n",
              "97   post #98  11/11/2021  Opportunity to engage: Gender and Sex Diverse ...\n",
              "98   post #99  11/11/2021           7 years signed, sealed and delivered ❤️💙\n",
              "99  post #100  16/11/2021  🎉GIVEAWAY🎉 True heroes often go unnoticed. Our...\n",
              "\n",
              "[100 rows x 3 columns]"
            ],
            "text/html": [
              "\n",
              "  <div id=\"df-dadfa959-4b6a-4690-9c00-69f97a226d69\">\n",
              "    <div class=\"colab-df-container\">\n",
              "      <div>\n",
              "<style scoped>\n",
              "    .dataframe tbody tr th:only-of-type {\n",
              "        vertical-align: middle;\n",
              "    }\n",
              "\n",
              "    .dataframe tbody tr th {\n",
              "        vertical-align: top;\n",
              "    }\n",
              "\n",
              "    .dataframe thead th {\n",
              "        text-align: right;\n",
              "    }\n",
              "</style>\n",
              "<table border=\"1\" class=\"dataframe\">\n",
              "  <thead>\n",
              "    <tr style=\"text-align: right;\">\n",
              "      <th></th>\n",
              "      <th>post_id</th>\n",
              "      <th>date</th>\n",
              "      <th>caption</th>\n",
              "    </tr>\n",
              "  </thead>\n",
              "  <tbody>\n",
              "    <tr>\n",
              "      <th>0</th>\n",
              "      <td>post #1</td>\n",
              "      <td>15/11/2021</td>\n",
              "      <td>NaN</td>\n",
              "    </tr>\n",
              "    <tr>\n",
              "      <th>1</th>\n",
              "      <td>post #2</td>\n",
              "      <td>14/11/2021</td>\n",
              "      <td>Skippers at the ground for a photo call but ca...</td>\n",
              "    </tr>\n",
              "    <tr>\n",
              "      <th>2</th>\n",
              "      <td>post #3</td>\n",
              "      <td>18/11/2021</td>\n",
              "      <td>Kia ora everyone, We tried but it wasn't to be...</td>\n",
              "    </tr>\n",
              "    <tr>\n",
              "      <th>3</th>\n",
              "      <td>post #4</td>\n",
              "      <td>11/11/2021</td>\n",
              "      <td>Teihorangi Walden 🔒 2022</td>\n",
              "    </tr>\n",
              "    <tr>\n",
              "      <th>4</th>\n",
              "      <td>post #5</td>\n",
              "      <td>13/11/2021</td>\n",
              "      <td>NaN</td>\n",
              "    </tr>\n",
              "    <tr>\n",
              "      <th>...</th>\n",
              "      <td>...</td>\n",
              "      <td>...</td>\n",
              "      <td>...</td>\n",
              "    </tr>\n",
              "    <tr>\n",
              "      <th>95</th>\n",
              "      <td>post #96</td>\n",
              "      <td>17/11/2021</td>\n",
              "      <td>Pink maomao, blue maomao, granddaddy hāpuku (N...</td>\n",
              "    </tr>\n",
              "    <tr>\n",
              "      <th>96</th>\n",
              "      <td>post #97</td>\n",
              "      <td>12/11/2021</td>\n",
              "      <td>Hiking in Queenstown? Yes, please! 🥾⁠ ⁠ Now th...</td>\n",
              "    </tr>\n",
              "    <tr>\n",
              "      <th>97</th>\n",
              "      <td>post #98</td>\n",
              "      <td>11/11/2021</td>\n",
              "      <td>Opportunity to engage: Gender and Sex Diverse ...</td>\n",
              "    </tr>\n",
              "    <tr>\n",
              "      <th>98</th>\n",
              "      <td>post #99</td>\n",
              "      <td>11/11/2021</td>\n",
              "      <td>7 years signed, sealed and delivered ❤️💙</td>\n",
              "    </tr>\n",
              "    <tr>\n",
              "      <th>99</th>\n",
              "      <td>post #100</td>\n",
              "      <td>16/11/2021</td>\n",
              "      <td>🎉GIVEAWAY🎉 True heroes often go unnoticed. Our...</td>\n",
              "    </tr>\n",
              "  </tbody>\n",
              "</table>\n",
              "<p>100 rows × 3 columns</p>\n",
              "</div>\n",
              "      <button class=\"colab-df-convert\" onclick=\"convertToInteractive('df-dadfa959-4b6a-4690-9c00-69f97a226d69')\"\n",
              "              title=\"Convert this dataframe to an interactive table.\"\n",
              "              style=\"display:none;\">\n",
              "        \n",
              "  <svg xmlns=\"http://www.w3.org/2000/svg\" height=\"24px\"viewBox=\"0 0 24 24\"\n",
              "       width=\"24px\">\n",
              "    <path d=\"M0 0h24v24H0V0z\" fill=\"none\"/>\n",
              "    <path d=\"M18.56 5.44l.94 2.06.94-2.06 2.06-.94-2.06-.94-.94-2.06-.94 2.06-2.06.94zm-11 1L8.5 8.5l.94-2.06 2.06-.94-2.06-.94L8.5 2.5l-.94 2.06-2.06.94zm10 10l.94 2.06.94-2.06 2.06-.94-2.06-.94-.94-2.06-.94 2.06-2.06.94z\"/><path d=\"M17.41 7.96l-1.37-1.37c-.4-.4-.92-.59-1.43-.59-.52 0-1.04.2-1.43.59L10.3 9.45l-7.72 7.72c-.78.78-.78 2.05 0 2.83L4 21.41c.39.39.9.59 1.41.59.51 0 1.02-.2 1.41-.59l7.78-7.78 2.81-2.81c.8-.78.8-2.07 0-2.86zM5.41 20L4 18.59l7.72-7.72 1.47 1.35L5.41 20z\"/>\n",
              "  </svg>\n",
              "      </button>\n",
              "      \n",
              "  <style>\n",
              "    .colab-df-container {\n",
              "      display:flex;\n",
              "      flex-wrap:wrap;\n",
              "      gap: 12px;\n",
              "    }\n",
              "\n",
              "    .colab-df-convert {\n",
              "      background-color: #E8F0FE;\n",
              "      border: none;\n",
              "      border-radius: 50%;\n",
              "      cursor: pointer;\n",
              "      display: none;\n",
              "      fill: #1967D2;\n",
              "      height: 32px;\n",
              "      padding: 0 0 0 0;\n",
              "      width: 32px;\n",
              "    }\n",
              "\n",
              "    .colab-df-convert:hover {\n",
              "      background-color: #E2EBFA;\n",
              "      box-shadow: 0px 1px 2px rgba(60, 64, 67, 0.3), 0px 1px 3px 1px rgba(60, 64, 67, 0.15);\n",
              "      fill: #174EA6;\n",
              "    }\n",
              "\n",
              "    [theme=dark] .colab-df-convert {\n",
              "      background-color: #3B4455;\n",
              "      fill: #D2E3FC;\n",
              "    }\n",
              "\n",
              "    [theme=dark] .colab-df-convert:hover {\n",
              "      background-color: #434B5C;\n",
              "      box-shadow: 0px 1px 3px 1px rgba(0, 0, 0, 0.15);\n",
              "      filter: drop-shadow(0px 1px 2px rgba(0, 0, 0, 0.3));\n",
              "      fill: #FFFFFF;\n",
              "    }\n",
              "  </style>\n",
              "\n",
              "      <script>\n",
              "        const buttonEl =\n",
              "          document.querySelector('#df-dadfa959-4b6a-4690-9c00-69f97a226d69 button.colab-df-convert');\n",
              "        buttonEl.style.display =\n",
              "          google.colab.kernel.accessAllowed ? 'block' : 'none';\n",
              "\n",
              "        async function convertToInteractive(key) {\n",
              "          const element = document.querySelector('#df-dadfa959-4b6a-4690-9c00-69f97a226d69');\n",
              "          const dataTable =\n",
              "            await google.colab.kernel.invokeFunction('convertToInteractive',\n",
              "                                                     [key], {});\n",
              "          if (!dataTable) return;\n",
              "\n",
              "          const docLinkHtml = 'Like what you see? Visit the ' +\n",
              "            '<a target=\"_blank\" href=https://colab.research.google.com/notebooks/data_table.ipynb>data table notebook</a>'\n",
              "            + ' to learn more about interactive tables.';\n",
              "          element.innerHTML = '';\n",
              "          dataTable['output_type'] = 'display_data';\n",
              "          await google.colab.output.renderOutput(dataTable, element);\n",
              "          const docLink = document.createElement('div');\n",
              "          docLink.innerHTML = docLinkHtml;\n",
              "          element.appendChild(docLink);\n",
              "        }\n",
              "      </script>\n",
              "    </div>\n",
              "  </div>\n",
              "  "
            ]
          },
          "metadata": {},
          "execution_count": 241
        }
      ]
    },
    {
      "cell_type": "markdown",
      "source": [
        "extracting posts older than 13/11/2021"
      ],
      "metadata": {
        "id": "DLMFY4oMtjsB"
      }
    },
    {
      "cell_type": "code",
      "source": [
        "df=df[df['date']>'13/11/2021']\n",
        "df"
      ],
      "metadata": {
        "colab": {
          "base_uri": "https://localhost:8080/",
          "height": 1000
        },
        "id": "6N-t8rNntnpq",
        "outputId": "3fc4dfd4-f618-4de0-f6b6-bf816c25a619"
      },
      "execution_count": 243,
      "outputs": [
        {
          "output_type": "execute_result",
          "data": {
            "text/plain": [
              "      post_id        date                                            caption\n",
              "0     post #1  15/11/2021                                                NaN\n",
              "1     post #2  14/11/2021  Skippers at the ground for a photo call but ca...\n",
              "2     post #3  18/11/2021  Kia ora everyone, We tried but it wasn't to be...\n",
              "7     post #8  17/11/2021  Last time in QT 📍🔙 Lock in the 11th of Februar...\n",
              "9    post #10  17/11/2021  It has been a homecoming for Inspector Darren ...\n",
              "11   post #12  16/11/2021  Vantage Cambridge 3 Day update 📢 To assist wit...\n",
              "12   post #13  15/11/2021  6⃣ days to go! #StandUpWithYourNix #ALeagueMen...\n",
              "15   post #16  17/11/2021       Final week focus 👀 #FRAvNZL #LoveEveryMinute\n",
              "17   post #18  16/11/2021  Free kick benders ✅ Stunning curlers ✅ Smashin...\n",
              "21   post #22  15/11/2021  Who was your favourite Silver Fern of 2021? Vo...\n",
              "24   post #25  17/11/2021  Tip 1: Celebrating the little wins 🥳 Over the ...\n",
              "25   post #26  15/11/2021  “If you don’t sacrifice for what you want, wha...\n",
              "27   post #28  15/11/2021  Competition time! 🚴 WIN a copy of ‘Bikepacking...\n",
              "29   post #30  16/11/2021  Master and Apprentice extend their time at the...\n",
              "30   post #31  16/11/2021  When life tackles you to the ground, remember ...\n",
              "32   post #33  17/11/2021  The AC40 by the numbers. 18m mast height 📐 11....\n",
              "33   post #34  15/11/2021  With the first pick of the 2021 draft, Ignite ...\n",
              "34   post #35  16/11/2021  Awesome to see our skip nominated for @worldru...\n",
              "36   post #37  15/11/2021  Recently been vibing with spas🙏🏽 . . . . This ...\n",
              "37   post #38  15/11/2021   🤩 The #SuperRugbyPacific draw is HERE!! Part 1 👉\n",
              "39   post #40  15/11/2021  Get 4 hours of power (E-bike hire + mid-week d...\n",
              "40   post #41  17/11/2021  ICYMI | Our 2022 squad has a new addition 💪 “𝐼...\n",
              "41   post #42  14/11/2021  💙World Diabetes Day 💙 #TB to when our boy beca...\n",
              "42   post #43  15/11/2021  A great few days training trying to get my Sup...\n",
              "44   post #45  14/11/2021  Smiling because PRE-SEASON starts in 15 Days 🏃...\n",
              "45   post #46  16/11/2021  What a journey it was. The commitment from thi...\n",
              "48   post #49  15/11/2021  Long time no see black line! 🏊🏼‍♀️ A perfect s...\n",
              "49   post #50  15/11/2021  Week 1 of 2 in FL to wrap up the season ✅ than...\n",
              "50   post #51  15/11/2021  Competition time! 🚴 WIN a copy of ‘Bikepacking...\n",
              "53   post #54  16/11/2021  Super Impressive🧡 will you try this challenge!...\n",
              "54   post #55  14/11/2021  Bike and a hike 🔥 loving making the most of NZ...\n",
              "55   post #56  14/11/2021  BELIEVE | We are right behind you, @blackcapsn...\n",
              "56   post #57  15/11/2021  Did you know we offer Zip part pay for purchas...\n",
              "57   post #58  14/11/2021                 Back with my bestie 🥰🖤 @_timasavea\n",
              "61   post #62  15/11/2021  Making the final of the Scottish Cup with @cel...\n",
              "62   post #63  17/11/2021                                      Our big boy 🐾\n",
              "64   post #65  15/11/2021  Less than a month to vote for @ockhamresidenti...\n",
              "68   post #69  16/11/2021  #TrainingCamp | 🗣 \"Definitely out of shape, do...\n",
              "70   post #71  17/11/2021  So close fellas! We go again next year, up the...\n",
              "73   post #74  18/11/2021  We're excited to reunite, Tāmaki Makaurau ✈❤ B...\n",
              "74   post #75  17/11/2021  Will always appreciate the memories made with ...\n",
              "75   post #76  17/11/2021  No matter how you choose to move your body 💃, ...\n",
              "77   post #78  14/11/2021  See you today for our first day of Nippers/Jun...\n",
              "79   post #80  15/11/2021  That first glimpse of Franz Josef glacier is a...\n",
              "80   post #81  16/11/2021  Mental resilience gets you through a tough wor...\n",
              "82   post #83  17/11/2021  NEW! Introducing our new premium 104L Ice Box ...\n",
              "87   post #88  14/11/2021  NEW LEVEL 3.2 ANNOUNCEMENT - ECO PODS & GLAMPI...\n",
              "88   post #89  15/11/2021  Some things, you never forget 😶 Riveting. Comp...\n",
              "90   post #91  17/11/2021  The real question is do I really need all this...\n",
              "91   post #92  18/11/2021  Ka pai tō mahi @springboard_nz 🙌 #manataiohi #...\n",
              "92   post #93  14/11/2021  Power, versatility, and feel for everyone with...\n",
              "94   post #95  18/11/2021  Swim trainings at @waitareresurf ❤💛 #SLSNZ #In...\n",
              "95   post #96  17/11/2021  Pink maomao, blue maomao, granddaddy hāpuku (N...\n",
              "99  post #100  16/11/2021  🎉GIVEAWAY🎉 True heroes often go unnoticed. Our..."
            ],
            "text/html": [
              "\n",
              "  <div id=\"df-d0bdac58-1f51-43a9-a08e-dafdf36045d5\">\n",
              "    <div class=\"colab-df-container\">\n",
              "      <div>\n",
              "<style scoped>\n",
              "    .dataframe tbody tr th:only-of-type {\n",
              "        vertical-align: middle;\n",
              "    }\n",
              "\n",
              "    .dataframe tbody tr th {\n",
              "        vertical-align: top;\n",
              "    }\n",
              "\n",
              "    .dataframe thead th {\n",
              "        text-align: right;\n",
              "    }\n",
              "</style>\n",
              "<table border=\"1\" class=\"dataframe\">\n",
              "  <thead>\n",
              "    <tr style=\"text-align: right;\">\n",
              "      <th></th>\n",
              "      <th>post_id</th>\n",
              "      <th>date</th>\n",
              "      <th>caption</th>\n",
              "    </tr>\n",
              "  </thead>\n",
              "  <tbody>\n",
              "    <tr>\n",
              "      <th>0</th>\n",
              "      <td>post #1</td>\n",
              "      <td>15/11/2021</td>\n",
              "      <td>NaN</td>\n",
              "    </tr>\n",
              "    <tr>\n",
              "      <th>1</th>\n",
              "      <td>post #2</td>\n",
              "      <td>14/11/2021</td>\n",
              "      <td>Skippers at the ground for a photo call but ca...</td>\n",
              "    </tr>\n",
              "    <tr>\n",
              "      <th>2</th>\n",
              "      <td>post #3</td>\n",
              "      <td>18/11/2021</td>\n",
              "      <td>Kia ora everyone, We tried but it wasn't to be...</td>\n",
              "    </tr>\n",
              "    <tr>\n",
              "      <th>7</th>\n",
              "      <td>post #8</td>\n",
              "      <td>17/11/2021</td>\n",
              "      <td>Last time in QT 📍🔙 Lock in the 11th of Februar...</td>\n",
              "    </tr>\n",
              "    <tr>\n",
              "      <th>9</th>\n",
              "      <td>post #10</td>\n",
              "      <td>17/11/2021</td>\n",
              "      <td>It has been a homecoming for Inspector Darren ...</td>\n",
              "    </tr>\n",
              "    <tr>\n",
              "      <th>11</th>\n",
              "      <td>post #12</td>\n",
              "      <td>16/11/2021</td>\n",
              "      <td>Vantage Cambridge 3 Day update 📢 To assist wit...</td>\n",
              "    </tr>\n",
              "    <tr>\n",
              "      <th>12</th>\n",
              "      <td>post #13</td>\n",
              "      <td>15/11/2021</td>\n",
              "      <td>6⃣ days to go! #StandUpWithYourNix #ALeagueMen...</td>\n",
              "    </tr>\n",
              "    <tr>\n",
              "      <th>15</th>\n",
              "      <td>post #16</td>\n",
              "      <td>17/11/2021</td>\n",
              "      <td>Final week focus 👀 #FRAvNZL #LoveEveryMinute</td>\n",
              "    </tr>\n",
              "    <tr>\n",
              "      <th>17</th>\n",
              "      <td>post #18</td>\n",
              "      <td>16/11/2021</td>\n",
              "      <td>Free kick benders ✅ Stunning curlers ✅ Smashin...</td>\n",
              "    </tr>\n",
              "    <tr>\n",
              "      <th>21</th>\n",
              "      <td>post #22</td>\n",
              "      <td>15/11/2021</td>\n",
              "      <td>Who was your favourite Silver Fern of 2021? Vo...</td>\n",
              "    </tr>\n",
              "    <tr>\n",
              "      <th>24</th>\n",
              "      <td>post #25</td>\n",
              "      <td>17/11/2021</td>\n",
              "      <td>Tip 1: Celebrating the little wins 🥳 Over the ...</td>\n",
              "    </tr>\n",
              "    <tr>\n",
              "      <th>25</th>\n",
              "      <td>post #26</td>\n",
              "      <td>15/11/2021</td>\n",
              "      <td>“If you don’t sacrifice for what you want, wha...</td>\n",
              "    </tr>\n",
              "    <tr>\n",
              "      <th>27</th>\n",
              "      <td>post #28</td>\n",
              "      <td>15/11/2021</td>\n",
              "      <td>Competition time! 🚴 WIN a copy of ‘Bikepacking...</td>\n",
              "    </tr>\n",
              "    <tr>\n",
              "      <th>29</th>\n",
              "      <td>post #30</td>\n",
              "      <td>16/11/2021</td>\n",
              "      <td>Master and Apprentice extend their time at the...</td>\n",
              "    </tr>\n",
              "    <tr>\n",
              "      <th>30</th>\n",
              "      <td>post #31</td>\n",
              "      <td>16/11/2021</td>\n",
              "      <td>When life tackles you to the ground, remember ...</td>\n",
              "    </tr>\n",
              "    <tr>\n",
              "      <th>32</th>\n",
              "      <td>post #33</td>\n",
              "      <td>17/11/2021</td>\n",
              "      <td>The AC40 by the numbers. 18m mast height 📐 11....</td>\n",
              "    </tr>\n",
              "    <tr>\n",
              "      <th>33</th>\n",
              "      <td>post #34</td>\n",
              "      <td>15/11/2021</td>\n",
              "      <td>With the first pick of the 2021 draft, Ignite ...</td>\n",
              "    </tr>\n",
              "    <tr>\n",
              "      <th>34</th>\n",
              "      <td>post #35</td>\n",
              "      <td>16/11/2021</td>\n",
              "      <td>Awesome to see our skip nominated for @worldru...</td>\n",
              "    </tr>\n",
              "    <tr>\n",
              "      <th>36</th>\n",
              "      <td>post #37</td>\n",
              "      <td>15/11/2021</td>\n",
              "      <td>Recently been vibing with spas🙏🏽 . . . . This ...</td>\n",
              "    </tr>\n",
              "    <tr>\n",
              "      <th>37</th>\n",
              "      <td>post #38</td>\n",
              "      <td>15/11/2021</td>\n",
              "      <td>🤩 The #SuperRugbyPacific draw is HERE!! Part 1 👉</td>\n",
              "    </tr>\n",
              "    <tr>\n",
              "      <th>39</th>\n",
              "      <td>post #40</td>\n",
              "      <td>15/11/2021</td>\n",
              "      <td>Get 4 hours of power (E-bike hire + mid-week d...</td>\n",
              "    </tr>\n",
              "    <tr>\n",
              "      <th>40</th>\n",
              "      <td>post #41</td>\n",
              "      <td>17/11/2021</td>\n",
              "      <td>ICYMI | Our 2022 squad has a new addition 💪 “𝐼...</td>\n",
              "    </tr>\n",
              "    <tr>\n",
              "      <th>41</th>\n",
              "      <td>post #42</td>\n",
              "      <td>14/11/2021</td>\n",
              "      <td>💙World Diabetes Day 💙 #TB to when our boy beca...</td>\n",
              "    </tr>\n",
              "    <tr>\n",
              "      <th>42</th>\n",
              "      <td>post #43</td>\n",
              "      <td>15/11/2021</td>\n",
              "      <td>A great few days training trying to get my Sup...</td>\n",
              "    </tr>\n",
              "    <tr>\n",
              "      <th>44</th>\n",
              "      <td>post #45</td>\n",
              "      <td>14/11/2021</td>\n",
              "      <td>Smiling because PRE-SEASON starts in 15 Days 🏃...</td>\n",
              "    </tr>\n",
              "    <tr>\n",
              "      <th>45</th>\n",
              "      <td>post #46</td>\n",
              "      <td>16/11/2021</td>\n",
              "      <td>What a journey it was. The commitment from thi...</td>\n",
              "    </tr>\n",
              "    <tr>\n",
              "      <th>48</th>\n",
              "      <td>post #49</td>\n",
              "      <td>15/11/2021</td>\n",
              "      <td>Long time no see black line! 🏊🏼‍♀️ A perfect s...</td>\n",
              "    </tr>\n",
              "    <tr>\n",
              "      <th>49</th>\n",
              "      <td>post #50</td>\n",
              "      <td>15/11/2021</td>\n",
              "      <td>Week 1 of 2 in FL to wrap up the season ✅ than...</td>\n",
              "    </tr>\n",
              "    <tr>\n",
              "      <th>50</th>\n",
              "      <td>post #51</td>\n",
              "      <td>15/11/2021</td>\n",
              "      <td>Competition time! 🚴 WIN a copy of ‘Bikepacking...</td>\n",
              "    </tr>\n",
              "    <tr>\n",
              "      <th>53</th>\n",
              "      <td>post #54</td>\n",
              "      <td>16/11/2021</td>\n",
              "      <td>Super Impressive🧡 will you try this challenge!...</td>\n",
              "    </tr>\n",
              "    <tr>\n",
              "      <th>54</th>\n",
              "      <td>post #55</td>\n",
              "      <td>14/11/2021</td>\n",
              "      <td>Bike and a hike 🔥 loving making the most of NZ...</td>\n",
              "    </tr>\n",
              "    <tr>\n",
              "      <th>55</th>\n",
              "      <td>post #56</td>\n",
              "      <td>14/11/2021</td>\n",
              "      <td>BELIEVE | We are right behind you, @blackcapsn...</td>\n",
              "    </tr>\n",
              "    <tr>\n",
              "      <th>56</th>\n",
              "      <td>post #57</td>\n",
              "      <td>15/11/2021</td>\n",
              "      <td>Did you know we offer Zip part pay for purchas...</td>\n",
              "    </tr>\n",
              "    <tr>\n",
              "      <th>57</th>\n",
              "      <td>post #58</td>\n",
              "      <td>14/11/2021</td>\n",
              "      <td>Back with my bestie 🥰🖤 @_timasavea</td>\n",
              "    </tr>\n",
              "    <tr>\n",
              "      <th>61</th>\n",
              "      <td>post #62</td>\n",
              "      <td>15/11/2021</td>\n",
              "      <td>Making the final of the Scottish Cup with @cel...</td>\n",
              "    </tr>\n",
              "    <tr>\n",
              "      <th>62</th>\n",
              "      <td>post #63</td>\n",
              "      <td>17/11/2021</td>\n",
              "      <td>Our big boy 🐾</td>\n",
              "    </tr>\n",
              "    <tr>\n",
              "      <th>64</th>\n",
              "      <td>post #65</td>\n",
              "      <td>15/11/2021</td>\n",
              "      <td>Less than a month to vote for @ockhamresidenti...</td>\n",
              "    </tr>\n",
              "    <tr>\n",
              "      <th>68</th>\n",
              "      <td>post #69</td>\n",
              "      <td>16/11/2021</td>\n",
              "      <td>#TrainingCamp | 🗣 \"Definitely out of shape, do...</td>\n",
              "    </tr>\n",
              "    <tr>\n",
              "      <th>70</th>\n",
              "      <td>post #71</td>\n",
              "      <td>17/11/2021</td>\n",
              "      <td>So close fellas! We go again next year, up the...</td>\n",
              "    </tr>\n",
              "    <tr>\n",
              "      <th>73</th>\n",
              "      <td>post #74</td>\n",
              "      <td>18/11/2021</td>\n",
              "      <td>We're excited to reunite, Tāmaki Makaurau ✈❤ B...</td>\n",
              "    </tr>\n",
              "    <tr>\n",
              "      <th>74</th>\n",
              "      <td>post #75</td>\n",
              "      <td>17/11/2021</td>\n",
              "      <td>Will always appreciate the memories made with ...</td>\n",
              "    </tr>\n",
              "    <tr>\n",
              "      <th>75</th>\n",
              "      <td>post #76</td>\n",
              "      <td>17/11/2021</td>\n",
              "      <td>No matter how you choose to move your body 💃, ...</td>\n",
              "    </tr>\n",
              "    <tr>\n",
              "      <th>77</th>\n",
              "      <td>post #78</td>\n",
              "      <td>14/11/2021</td>\n",
              "      <td>See you today for our first day of Nippers/Jun...</td>\n",
              "    </tr>\n",
              "    <tr>\n",
              "      <th>79</th>\n",
              "      <td>post #80</td>\n",
              "      <td>15/11/2021</td>\n",
              "      <td>That first glimpse of Franz Josef glacier is a...</td>\n",
              "    </tr>\n",
              "    <tr>\n",
              "      <th>80</th>\n",
              "      <td>post #81</td>\n",
              "      <td>16/11/2021</td>\n",
              "      <td>Mental resilience gets you through a tough wor...</td>\n",
              "    </tr>\n",
              "    <tr>\n",
              "      <th>82</th>\n",
              "      <td>post #83</td>\n",
              "      <td>17/11/2021</td>\n",
              "      <td>NEW! Introducing our new premium 104L Ice Box ...</td>\n",
              "    </tr>\n",
              "    <tr>\n",
              "      <th>87</th>\n",
              "      <td>post #88</td>\n",
              "      <td>14/11/2021</td>\n",
              "      <td>NEW LEVEL 3.2 ANNOUNCEMENT - ECO PODS &amp; GLAMPI...</td>\n",
              "    </tr>\n",
              "    <tr>\n",
              "      <th>88</th>\n",
              "      <td>post #89</td>\n",
              "      <td>15/11/2021</td>\n",
              "      <td>Some things, you never forget 😶 Riveting. Comp...</td>\n",
              "    </tr>\n",
              "    <tr>\n",
              "      <th>90</th>\n",
              "      <td>post #91</td>\n",
              "      <td>17/11/2021</td>\n",
              "      <td>The real question is do I really need all this...</td>\n",
              "    </tr>\n",
              "    <tr>\n",
              "      <th>91</th>\n",
              "      <td>post #92</td>\n",
              "      <td>18/11/2021</td>\n",
              "      <td>Ka pai tō mahi @springboard_nz 🙌 #manataiohi #...</td>\n",
              "    </tr>\n",
              "    <tr>\n",
              "      <th>92</th>\n",
              "      <td>post #93</td>\n",
              "      <td>14/11/2021</td>\n",
              "      <td>Power, versatility, and feel for everyone with...</td>\n",
              "    </tr>\n",
              "    <tr>\n",
              "      <th>94</th>\n",
              "      <td>post #95</td>\n",
              "      <td>18/11/2021</td>\n",
              "      <td>Swim trainings at @waitareresurf ❤💛 #SLSNZ #In...</td>\n",
              "    </tr>\n",
              "    <tr>\n",
              "      <th>95</th>\n",
              "      <td>post #96</td>\n",
              "      <td>17/11/2021</td>\n",
              "      <td>Pink maomao, blue maomao, granddaddy hāpuku (N...</td>\n",
              "    </tr>\n",
              "    <tr>\n",
              "      <th>99</th>\n",
              "      <td>post #100</td>\n",
              "      <td>16/11/2021</td>\n",
              "      <td>🎉GIVEAWAY🎉 True heroes often go unnoticed. Our...</td>\n",
              "    </tr>\n",
              "  </tbody>\n",
              "</table>\n",
              "</div>\n",
              "      <button class=\"colab-df-convert\" onclick=\"convertToInteractive('df-d0bdac58-1f51-43a9-a08e-dafdf36045d5')\"\n",
              "              title=\"Convert this dataframe to an interactive table.\"\n",
              "              style=\"display:none;\">\n",
              "        \n",
              "  <svg xmlns=\"http://www.w3.org/2000/svg\" height=\"24px\"viewBox=\"0 0 24 24\"\n",
              "       width=\"24px\">\n",
              "    <path d=\"M0 0h24v24H0V0z\" fill=\"none\"/>\n",
              "    <path d=\"M18.56 5.44l.94 2.06.94-2.06 2.06-.94-2.06-.94-.94-2.06-.94 2.06-2.06.94zm-11 1L8.5 8.5l.94-2.06 2.06-.94-2.06-.94L8.5 2.5l-.94 2.06-2.06.94zm10 10l.94 2.06.94-2.06 2.06-.94-2.06-.94-.94-2.06-.94 2.06-2.06.94z\"/><path d=\"M17.41 7.96l-1.37-1.37c-.4-.4-.92-.59-1.43-.59-.52 0-1.04.2-1.43.59L10.3 9.45l-7.72 7.72c-.78.78-.78 2.05 0 2.83L4 21.41c.39.39.9.59 1.41.59.51 0 1.02-.2 1.41-.59l7.78-7.78 2.81-2.81c.8-.78.8-2.07 0-2.86zM5.41 20L4 18.59l7.72-7.72 1.47 1.35L5.41 20z\"/>\n",
              "  </svg>\n",
              "      </button>\n",
              "      \n",
              "  <style>\n",
              "    .colab-df-container {\n",
              "      display:flex;\n",
              "      flex-wrap:wrap;\n",
              "      gap: 12px;\n",
              "    }\n",
              "\n",
              "    .colab-df-convert {\n",
              "      background-color: #E8F0FE;\n",
              "      border: none;\n",
              "      border-radius: 50%;\n",
              "      cursor: pointer;\n",
              "      display: none;\n",
              "      fill: #1967D2;\n",
              "      height: 32px;\n",
              "      padding: 0 0 0 0;\n",
              "      width: 32px;\n",
              "    }\n",
              "\n",
              "    .colab-df-convert:hover {\n",
              "      background-color: #E2EBFA;\n",
              "      box-shadow: 0px 1px 2px rgba(60, 64, 67, 0.3), 0px 1px 3px 1px rgba(60, 64, 67, 0.15);\n",
              "      fill: #174EA6;\n",
              "    }\n",
              "\n",
              "    [theme=dark] .colab-df-convert {\n",
              "      background-color: #3B4455;\n",
              "      fill: #D2E3FC;\n",
              "    }\n",
              "\n",
              "    [theme=dark] .colab-df-convert:hover {\n",
              "      background-color: #434B5C;\n",
              "      box-shadow: 0px 1px 3px 1px rgba(0, 0, 0, 0.15);\n",
              "      filter: drop-shadow(0px 1px 2px rgba(0, 0, 0, 0.3));\n",
              "      fill: #FFFFFF;\n",
              "    }\n",
              "  </style>\n",
              "\n",
              "      <script>\n",
              "        const buttonEl =\n",
              "          document.querySelector('#df-d0bdac58-1f51-43a9-a08e-dafdf36045d5 button.colab-df-convert');\n",
              "        buttonEl.style.display =\n",
              "          google.colab.kernel.accessAllowed ? 'block' : 'none';\n",
              "\n",
              "        async function convertToInteractive(key) {\n",
              "          const element = document.querySelector('#df-d0bdac58-1f51-43a9-a08e-dafdf36045d5');\n",
              "          const dataTable =\n",
              "            await google.colab.kernel.invokeFunction('convertToInteractive',\n",
              "                                                     [key], {});\n",
              "          if (!dataTable) return;\n",
              "\n",
              "          const docLinkHtml = 'Like what you see? Visit the ' +\n",
              "            '<a target=\"_blank\" href=https://colab.research.google.com/notebooks/data_table.ipynb>data table notebook</a>'\n",
              "            + ' to learn more about interactive tables.';\n",
              "          element.innerHTML = '';\n",
              "          dataTable['output_type'] = 'display_data';\n",
              "          await google.colab.output.renderOutput(dataTable, element);\n",
              "          const docLink = document.createElement('div');\n",
              "          docLink.innerHTML = docLinkHtml;\n",
              "          element.appendChild(docLink);\n",
              "        }\n",
              "      </script>\n",
              "    </div>\n",
              "  </div>\n",
              "  "
            ]
          },
          "metadata": {},
          "execution_count": 243
        }
      ]
    },
    {
      "cell_type": "code",
      "source": [
        "def count_special_char(string):\n",
        "    special_char = 0\n",
        "    for i in range(len(string)):\n",
        "        if(string[i].isalpha()):\n",
        "            continue\n",
        "        else:\n",
        "            special_char = special_char + 1\n",
        "\n",
        "df[\"new\"]=df.apply(count_special_char, axis = 0)\n",
        "df"
      ],
      "metadata": {
        "colab": {
          "base_uri": "https://localhost:8080/",
          "height": 378
        },
        "id": "_mV-Mgvbt2om",
        "outputId": "4e4dd633-dd87-4023-a42f-4a404cce7ad0"
      },
      "execution_count": 245,
      "outputs": [
        {
          "output_type": "error",
          "ename": "AttributeError",
          "evalue": "ignored",
          "traceback": [
            "\u001b[0;31m---------------------------------------------------------------------------\u001b[0m",
            "\u001b[0;31mAttributeError\u001b[0m                            Traceback (most recent call last)",
            "\u001b[0;32m<ipython-input-245-1003b57a28b1>\u001b[0m in \u001b[0;36m<module>\u001b[0;34m()\u001b[0m\n\u001b[1;32m      8\u001b[0m             \u001b[0mspecial_char\u001b[0m \u001b[0;34m=\u001b[0m \u001b[0mspecial_char\u001b[0m \u001b[0;34m+\u001b[0m \u001b[0;36m1\u001b[0m\u001b[0;34m\u001b[0m\u001b[0;34m\u001b[0m\u001b[0m\n\u001b[1;32m      9\u001b[0m \u001b[0;34m\u001b[0m\u001b[0m\n\u001b[0;32m---> 10\u001b[0;31m \u001b[0mdf\u001b[0m\u001b[0;34m[\u001b[0m\u001b[0;34m\"new\"\u001b[0m\u001b[0;34m]\u001b[0m\u001b[0;34m=\u001b[0m\u001b[0mdf\u001b[0m\u001b[0;34m.\u001b[0m\u001b[0mapply\u001b[0m\u001b[0;34m(\u001b[0m\u001b[0mcount_special_char\u001b[0m\u001b[0;34m,\u001b[0m \u001b[0maxis\u001b[0m \u001b[0;34m=\u001b[0m \u001b[0;36m1\u001b[0m\u001b[0;34m)\u001b[0m\u001b[0;34m\u001b[0m\u001b[0;34m\u001b[0m\u001b[0m\n\u001b[0m\u001b[1;32m     11\u001b[0m \u001b[0mdf\u001b[0m\u001b[0;34m\u001b[0m\u001b[0;34m\u001b[0m\u001b[0m\n",
            "\u001b[0;32m/usr/local/lib/python3.7/dist-packages/pandas/core/frame.py\u001b[0m in \u001b[0;36mapply\u001b[0;34m(self, func, axis, raw, result_type, args, **kwargs)\u001b[0m\n\u001b[1;32m   8738\u001b[0m             \u001b[0mkwargs\u001b[0m\u001b[0;34m=\u001b[0m\u001b[0mkwargs\u001b[0m\u001b[0;34m,\u001b[0m\u001b[0;34m\u001b[0m\u001b[0;34m\u001b[0m\u001b[0m\n\u001b[1;32m   8739\u001b[0m         )\n\u001b[0;32m-> 8740\u001b[0;31m         \u001b[0;32mreturn\u001b[0m \u001b[0mop\u001b[0m\u001b[0;34m.\u001b[0m\u001b[0mapply\u001b[0m\u001b[0;34m(\u001b[0m\u001b[0;34m)\u001b[0m\u001b[0;34m\u001b[0m\u001b[0;34m\u001b[0m\u001b[0m\n\u001b[0m\u001b[1;32m   8741\u001b[0m \u001b[0;34m\u001b[0m\u001b[0m\n\u001b[1;32m   8742\u001b[0m     def applymap(\n",
            "\u001b[0;32m/usr/local/lib/python3.7/dist-packages/pandas/core/apply.py\u001b[0m in \u001b[0;36mapply\u001b[0;34m(self)\u001b[0m\n\u001b[1;32m    686\u001b[0m             \u001b[0;32mreturn\u001b[0m \u001b[0mself\u001b[0m\u001b[0;34m.\u001b[0m\u001b[0mapply_raw\u001b[0m\u001b[0;34m(\u001b[0m\u001b[0;34m)\u001b[0m\u001b[0;34m\u001b[0m\u001b[0;34m\u001b[0m\u001b[0m\n\u001b[1;32m    687\u001b[0m \u001b[0;34m\u001b[0m\u001b[0m\n\u001b[0;32m--> 688\u001b[0;31m         \u001b[0;32mreturn\u001b[0m \u001b[0mself\u001b[0m\u001b[0;34m.\u001b[0m\u001b[0mapply_standard\u001b[0m\u001b[0;34m(\u001b[0m\u001b[0;34m)\u001b[0m\u001b[0;34m\u001b[0m\u001b[0;34m\u001b[0m\u001b[0m\n\u001b[0m\u001b[1;32m    689\u001b[0m \u001b[0;34m\u001b[0m\u001b[0m\n\u001b[1;32m    690\u001b[0m     \u001b[0;32mdef\u001b[0m \u001b[0magg\u001b[0m\u001b[0;34m(\u001b[0m\u001b[0mself\u001b[0m\u001b[0;34m)\u001b[0m\u001b[0;34m:\u001b[0m\u001b[0;34m\u001b[0m\u001b[0;34m\u001b[0m\u001b[0m\n",
            "\u001b[0;32m/usr/local/lib/python3.7/dist-packages/pandas/core/apply.py\u001b[0m in \u001b[0;36mapply_standard\u001b[0;34m(self)\u001b[0m\n\u001b[1;32m    810\u001b[0m \u001b[0;34m\u001b[0m\u001b[0m\n\u001b[1;32m    811\u001b[0m     \u001b[0;32mdef\u001b[0m \u001b[0mapply_standard\u001b[0m\u001b[0;34m(\u001b[0m\u001b[0mself\u001b[0m\u001b[0;34m)\u001b[0m\u001b[0;34m:\u001b[0m\u001b[0;34m\u001b[0m\u001b[0;34m\u001b[0m\u001b[0m\n\u001b[0;32m--> 812\u001b[0;31m         \u001b[0mresults\u001b[0m\u001b[0;34m,\u001b[0m \u001b[0mres_index\u001b[0m \u001b[0;34m=\u001b[0m \u001b[0mself\u001b[0m\u001b[0;34m.\u001b[0m\u001b[0mapply_series_generator\u001b[0m\u001b[0;34m(\u001b[0m\u001b[0;34m)\u001b[0m\u001b[0;34m\u001b[0m\u001b[0;34m\u001b[0m\u001b[0m\n\u001b[0m\u001b[1;32m    813\u001b[0m \u001b[0;34m\u001b[0m\u001b[0m\n\u001b[1;32m    814\u001b[0m         \u001b[0;31m# wrap results\u001b[0m\u001b[0;34m\u001b[0m\u001b[0;34m\u001b[0m\u001b[0;34m\u001b[0m\u001b[0m\n",
            "\u001b[0;32m/usr/local/lib/python3.7/dist-packages/pandas/core/apply.py\u001b[0m in \u001b[0;36mapply_series_generator\u001b[0;34m(self)\u001b[0m\n\u001b[1;32m    826\u001b[0m             \u001b[0;32mfor\u001b[0m \u001b[0mi\u001b[0m\u001b[0;34m,\u001b[0m \u001b[0mv\u001b[0m \u001b[0;32min\u001b[0m \u001b[0menumerate\u001b[0m\u001b[0;34m(\u001b[0m\u001b[0mseries_gen\u001b[0m\u001b[0;34m)\u001b[0m\u001b[0;34m:\u001b[0m\u001b[0;34m\u001b[0m\u001b[0;34m\u001b[0m\u001b[0m\n\u001b[1;32m    827\u001b[0m                 \u001b[0;31m# ignore SettingWithCopy here in case the user mutates\u001b[0m\u001b[0;34m\u001b[0m\u001b[0;34m\u001b[0m\u001b[0;34m\u001b[0m\u001b[0m\n\u001b[0;32m--> 828\u001b[0;31m                 \u001b[0mresults\u001b[0m\u001b[0;34m[\u001b[0m\u001b[0mi\u001b[0m\u001b[0;34m]\u001b[0m \u001b[0;34m=\u001b[0m \u001b[0mself\u001b[0m\u001b[0;34m.\u001b[0m\u001b[0mf\u001b[0m\u001b[0;34m(\u001b[0m\u001b[0mv\u001b[0m\u001b[0;34m)\u001b[0m\u001b[0;34m\u001b[0m\u001b[0;34m\u001b[0m\u001b[0m\n\u001b[0m\u001b[1;32m    829\u001b[0m                 \u001b[0;32mif\u001b[0m \u001b[0misinstance\u001b[0m\u001b[0;34m(\u001b[0m\u001b[0mresults\u001b[0m\u001b[0;34m[\u001b[0m\u001b[0mi\u001b[0m\u001b[0;34m]\u001b[0m\u001b[0;34m,\u001b[0m \u001b[0mABCSeries\u001b[0m\u001b[0;34m)\u001b[0m\u001b[0;34m:\u001b[0m\u001b[0;34m\u001b[0m\u001b[0;34m\u001b[0m\u001b[0m\n\u001b[1;32m    830\u001b[0m                     \u001b[0;31m# If we have a view on v, we need to make a copy because\u001b[0m\u001b[0;34m\u001b[0m\u001b[0;34m\u001b[0m\u001b[0;34m\u001b[0m\u001b[0m\n",
            "\u001b[0;32m<ipython-input-245-1003b57a28b1>\u001b[0m in \u001b[0;36mcount_special_char\u001b[0;34m(string)\u001b[0m\n\u001b[1;32m      3\u001b[0m \u001b[0;34m\u001b[0m\u001b[0m\n\u001b[1;32m      4\u001b[0m     \u001b[0;32mfor\u001b[0m \u001b[0mi\u001b[0m \u001b[0;32min\u001b[0m \u001b[0mrange\u001b[0m\u001b[0;34m(\u001b[0m\u001b[0mlen\u001b[0m\u001b[0;34m(\u001b[0m\u001b[0mstring\u001b[0m\u001b[0;34m)\u001b[0m\u001b[0;34m)\u001b[0m\u001b[0;34m:\u001b[0m\u001b[0;34m\u001b[0m\u001b[0;34m\u001b[0m\u001b[0m\n\u001b[0;32m----> 5\u001b[0;31m         \u001b[0;32mif\u001b[0m\u001b[0;34m(\u001b[0m\u001b[0mstring\u001b[0m\u001b[0;34m[\u001b[0m\u001b[0mi\u001b[0m\u001b[0;34m]\u001b[0m\u001b[0;34m.\u001b[0m\u001b[0misalpha\u001b[0m\u001b[0;34m(\u001b[0m\u001b[0;34m)\u001b[0m\u001b[0;34m)\u001b[0m\u001b[0;34m:\u001b[0m\u001b[0;34m\u001b[0m\u001b[0;34m\u001b[0m\u001b[0m\n\u001b[0m\u001b[1;32m      6\u001b[0m             \u001b[0;32mcontinue\u001b[0m\u001b[0;34m\u001b[0m\u001b[0;34m\u001b[0m\u001b[0m\n\u001b[1;32m      7\u001b[0m         \u001b[0;32melse\u001b[0m\u001b[0;34m:\u001b[0m\u001b[0;34m\u001b[0m\u001b[0;34m\u001b[0m\u001b[0m\n",
            "\u001b[0;31mAttributeError\u001b[0m: 'float' object has no attribute 'isalpha'"
          ]
        }
      ]
    }
  ]
}
{
 "cells": [
  {
   "cell_type": "code",
   "execution_count": 2,
   "metadata": {},
   "outputs": [
    {
     "name": "stdout",
     "output_type": "stream",
     "text": [
      "         *          \n",
      "        *  *        \n",
      "      *  *  *       \n",
      "     *  *  *  *     \n",
      "   *  *  *  *  *    \n"
     ]
    }
   ],
   "source": [
    "a=\" * \"\n",
    "for i in range (1,6) : \n",
    "    n=i*a\n",
    "    print(n.center(20,\" \"))"
   ]
  },
  {
   "cell_type": "code",
   "execution_count": 11,
   "metadata": {},
   "outputs": [
    {
     "name": "stdout",
     "output_type": "stream",
     "text": [
      "Enter the number 153\n",
      "[1, 5, 3]\n",
      "Given Input Number is  153\n",
      "Sum of Cube of each Digit is  153\n",
      "153  is Armstrong Number \n"
     ]
    }
   ],
   "source": [
    "ast = input(\"Enter the number \") #input as string \n",
    "ai = int(ast) # input into list \n",
    "al = [] # initialising a list to put each digit in input number \n",
    "\n",
    "#extracting each digit of input number to a list al \n",
    "for i in range(0,len(ast)) : \n",
    "    al.append(int(ast[i]))\n",
    "print(al)\n",
    "\n",
    "apower = len(ast)\n",
    "\n",
    "#alss is sum of #of digit power of each digit \n",
    "alss = 0\n",
    "for el in al : \n",
    "    alss= alss + (el**apower)\n",
    "    \n",
    "print(\"Given Input Number is \",ai)\n",
    "print(\"Sum of Cube of each Digit is \",alss)\n",
    "\n",
    "if (alss == ai) : \n",
    "    print(ai,\" is Armstrong Number \")\n",
    "else : \n",
    "    print(ai,\" is not Armstrong Number \")"
   ]
  }
 ],
 "metadata": {
  "kernelspec": {
   "display_name": "Python 3 (ipykernel)",
   "language": "python",
   "name": "python3"
  },
  "language_info": {
   "codemirror_mode": {
    "name": "ipython",
    "version": 3
   },
   "file_extension": ".py",
   "mimetype": "text/x-python",
   "name": "python",
   "nbconvert_exporter": "python",
   "pygments_lexer": "ipython3",
   "version": "3.9.10+"
  }
 },
 "nbformat": 4,
 "nbformat_minor": 2
}

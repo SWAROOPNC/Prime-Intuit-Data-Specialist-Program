{
  "nbformat": 4,
  "nbformat_minor": 0,
  "metadata": {
    "colab": {
      "name": "Cls0328NumPy.ipynb",
      "provenance": [],
      "collapsed_sections": []
    },
    "kernelspec": {
      "name": "python3",
      "display_name": "Python 3"
    },
    "language_info": {
      "name": "python"
    }
  },
  "cells": [
    {
      "cell_type": "code",
      "execution_count": null,
      "metadata": {
        "id": "tEKNnGL9VtU3"
      },
      "outputs": [],
      "source": [
        "##Click Connect\n",
        "#~ approximation \n",
        "#why numpy , \n",
        "#list heterogenous data , so it involves Type Check , \n",
        "#huge data in low level hardware , DRAM method , ,DRAM tenchnique burst , DRAM don't take list & burst\n",
        "#Vectorisation in numpy , lists no speed up calculation\n",
        "# toggle case in swapcase not switch,\n",
        "# Uses C for DRAM burst"
      ]
    },
    {
      "cell_type": "code",
      "source": [
        "#compare performance with lists \n",
        "#observe total time \n",
        "%%time\n",
        "n = 10000\n",
        "l1 = list(range(n))\n",
        "l2=[]\n",
        "for i in l1 : \n",
        "  l2.append(i*i)"
      ],
      "metadata": {
        "colab": {
          "base_uri": "https://localhost:8080/"
        },
        "id": "23c50Q9udBua",
        "outputId": "00ca54f1-5529-4d02-9415-ec201063dc9d"
      },
      "execution_count": 3,
      "outputs": [
        {
          "output_type": "stream",
          "name": "stdout",
          "text": [
            "CPU times: user 3.64 ms, sys: 0 ns, total: 3.64 ms\n",
            "Wall time: 3.56 ms\n"
          ]
        }
      ]
    },
    {
      "cell_type": "code",
      "source": [
        "%%time \n",
        "n=10000\n",
        "l2 = list(range(n))\n",
        "l3 = [x*x for x in l2]\n",
        "#less time ideally  should be output , but more "
      ],
      "metadata": {
        "colab": {
          "base_uri": "https://localhost:8080/"
        },
        "id": "Eq_sHAhPfF2Q",
        "outputId": "c311f08d-2ca1-49bb-c544-7d43b117821f"
      },
      "execution_count": 4,
      "outputs": [
        {
          "output_type": "stream",
          "name": "stdout",
          "text": [
            "CPU times: user 1.84 ms, sys: 0 ns, total: 1.84 ms\n",
            "Wall time: 1.85 ms\n"
          ]
        }
      ]
    },
    {
      "cell_type": "code",
      "source": [
        "%%time\n",
        "n=10000\n",
        "l2=range(n)\n",
        "l3 = list(map(lambda x : x*x , l2))"
      ],
      "metadata": {
        "colab": {
          "base_uri": "https://localhost:8080/"
        },
        "id": "nvKmbNZsixyg",
        "outputId": "286972c0-eef1-41bc-a60c-78eafa0adc8c"
      },
      "execution_count": 8,
      "outputs": [
        {
          "output_type": "stream",
          "name": "stdout",
          "text": [
            "CPU times: user 1.79 ms, sys: 0 ns, total: 1.79 ms\n",
            "Wall time: 1.8 ms\n"
          ]
        }
      ]
    },
    {
      "cell_type": "code",
      "source": [
        "%%time\n",
        "import numpy as np\n",
        "n=10000\n",
        "ar1 = np.arange(n)\n",
        "ar2 = ar1*ar1"
      ],
      "metadata": {
        "colab": {
          "base_uri": "https://localhost:8080/"
        },
        "id": "OOm3FtlhkR3B",
        "outputId": "2ec1dcbb-02f6-4ea2-a1d5-5514be509327"
      },
      "execution_count": 10,
      "outputs": [
        {
          "output_type": "stream",
          "name": "stdout",
          "text": [
            "CPU times: user 898 µs, sys: 0 ns, total: 898 µs\n",
            "Wall time: 3.79 ms\n"
          ]
        }
      ]
    }
  ]
}